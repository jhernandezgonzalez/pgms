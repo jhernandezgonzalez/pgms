{
 "cells": [
  {
   "cell_type": "markdown",
   "metadata": {},
   "source": [
    "# Markov networks\n",
    "\n",
    "In this notebook you will know the <b>pgmpy</b> (https://github.com/pgmpy/pgmpy) library for the construction of Markov networks.\n",
    "\n",
    "Let us start with pgmpy. First of all, we need to import the necessary functions:\n"
   ]
  },
  {
   "cell_type": "code",
   "execution_count": null,
   "metadata": {},
   "outputs": [],
   "source": [
    "from pgmpy.factors.discrete import DiscreteFactor\n",
    "from pgmpy.models import MarkovModel"
   ]
  },
  {
   "cell_type": "markdown",
   "metadata": {},
   "source": [
    "## Setting up our model\n",
    "\n",
    "We will use the classical misconception example, which has the following graph structure:\n",
    "\n",
    "<img src=\"images/misconception_graph.png\" style=\"width:200px\" />\n",
    "\n",
    "A MN is composed by an undirected graph structure and the factors. We need to codify both elements.\n",
    "\n",
    "### Set the structure\n",
    "\n",
    "First of all, we need to specify that we are constructing a Markov network with a set of undirected edges as follow:"
   ]
  },
  {
   "cell_type": "code",
   "execution_count": null,
   "metadata": {},
   "outputs": [],
   "source": [
    "H = MarkovModel()\n",
    "H.add_nodes_from(['Alice', 'Bob', 'Charles', 'Debbie'])\n",
    "H.add_edges_from([('Alice', 'Bob'), \n",
    "                  ('Bob', 'Charles'), \n",
    "                  ('Charles', 'Debbie'), \n",
    "                  ('Debbie', 'Alice')])\n",
    "\n",
    "print('Check if node `Alice´ is in the graph:','Alice' in H) # check if node in graph\n",
    "print('Number of nodes in the graph:',len(H))"
   ]
  },
  {
   "cell_type": "markdown",
   "metadata": {},
   "source": [
    "With this simple code, we specify that there are four variables, each of them representing a student, and that there is an undirected edge connecting <i>Alice</i> and <i>Bob</i>, <i>Bob</i> and <i>Charles</i>, <i>Charles</i> and <i>Debbie</i>, and finally <i>Debbie</i> and <i>Alice</i>.\n",
    "\n",
    "The corresponding factorization is given by four pairwise factors:\n",
    "\n",
    "$$p(A,B,C,D)=\\frac{1}{\\Theta}\\phi_{AB}(A,B)\\phi_{BC}(B,C)\\phi_{CD}(C,D)\\phi_{DA}(D,A)$$\n",
    "\n",
    "### Set up the factor potentials\n",
    "\n",
    "Once the structure has been defined, we codify the respective factor potentials as follow:\n",
    "\n",
    "<img src=\"images/misconception_factors.png\" style=\"height:150px\" />\n",
    "\n",
    "\n",
    "Note that in this case all the random variables are binary.\n",
    "\n",
    "Firstly, the factor values assigned to all the posible value combinations for <i>Alice</i> and <i>Bob</i> are:\n"
   ]
  },
  {
   "cell_type": "code",
   "execution_count": null,
   "metadata": {},
   "outputs": [],
   "source": [
    "factorAB = DiscreteFactor(['Alice', 'Bob'], cardinality=[2, 2],\n",
    "                          values=[30, 5, 1, 10])"
   ]
  },
  {
   "cell_type": "markdown",
   "metadata": {},
   "source": [
    "\n",
    "Following the same definition the other three factor potentials are:\n"
   ]
  },
  {
   "cell_type": "code",
   "execution_count": null,
   "metadata": {},
   "outputs": [],
   "source": [
    "factorBC = DiscreteFactor(['Bob', 'Charles'], cardinality=[2, 2],\n",
    "                          values=[#### YOUR CODE HERE ####]) \n",
    "\n",
    "factorCD = DiscreteFactor(['Charles', 'Debbie'], cardinality=[2, 2],\n",
    "                          values=[#### YOUR CODE HERE ####])\n",
    "\n",
    "factorDA = DiscreteFactor(['Debbie', 'Alice'], cardinality=[2, 2],\n",
    "                          values=[#### YOUR CODE HERE ####])"
   ]
  },
  {
   "cell_type": "markdown",
   "metadata": {},
   "source": [
    "\n",
    "Once the potential factors are defined, we only have to include them into the model:\n"
   ]
  },
  {
   "cell_type": "code",
   "execution_count": null,
   "metadata": {},
   "outputs": [],
   "source": [
    "H.add_factors(factorAB,factorBC,factorCD,factorDA)"
   ]
  },
  {
   "cell_type": "markdown",
   "metadata": {},
   "source": [
    "\n",
    "Let us examine our model:\n"
   ]
  },
  {
   "cell_type": "code",
   "execution_count": null,
   "metadata": {},
   "outputs": [],
   "source": [
    "print('Is the model consistent?',H.check_model())"
   ]
  },
  {
   "cell_type": "markdown",
   "metadata": {},
   "source": [
    "\n",
    "Another important characteristic of Markov networks is the necessity of a partition function to build a joint probability distribution from the product of factors. This constant, represented in the above equation as $\\Theta$, is defined as the sum of the product for all the possible value combinations:\n",
    "$$\\Theta=\\sum_{a,b,c,d}\\phi_{AB}(A,B)\\phi_{BC}(B,C)\\phi_{CD}(C,D)\\phi_{DA}(D,A)$$\n",
    "\n",
    "Its value can be obtained as follow:\n"
   ]
  },
  {
   "cell_type": "code",
   "execution_count": null,
   "metadata": {},
   "outputs": [],
   "source": [
    "print('Partition function value (constant):',H.get_partition_function())"
   ]
  },
  {
   "cell_type": "markdown",
   "metadata": {},
   "source": [
    "## Using the model\n",
    "\n",
    "We have already built our model. It is time to use it!\n",
    "\n",
    "We can want to find the local <b>independencies</b> in the model associated to variable <i>Genetics</i>:\n"
   ]
  },
  {
   "cell_type": "code",
   "execution_count": null,
   "metadata": {},
   "outputs": [],
   "source": [
    "print('(Conditional) independencies:\\n',H.get_local_independencies())"
   ]
  },
  {
   "cell_type": "markdown",
   "metadata": {},
   "source": [
    "\n",
    "This set is obtained, given each single random variable $X_i$, by looking for all the variables out of the <b>Markov Blanket</b> of $X_i$ as we know that those are independent from $X_i$ given its Mb:\n",
    "\n",
    "$$X_i\\perp \\{V \\backslash X_i\\backslash MB(X_i)\\} |MB(X_i)$$\n",
    "\n",
    "Thus, we might be interested in knowing the Markov Blanket of <i>Alice</i>:"
   ]
  },
  {
   "cell_type": "code",
   "execution_count": null,
   "metadata": {},
   "outputs": [],
   "source": [
    "print('Markov Blanket of `Alice´:',H.markov_blanket('Alice'))"
   ]
  },
  {
   "cell_type": "markdown",
   "metadata": {},
   "source": [
    "\n",
    "Regarding the set of (conditional) independencies that are encoded by a Markov network and its equivalent, if possible, Bayesian network, we can transform the MN to a BN and observe the produced structure:\n"
   ]
  },
  {
   "cell_type": "code",
   "execution_count": null,
   "metadata": {},
   "outputs": [],
   "source": [
    "bn = H.to_bayesian_model()\n",
    "print('Set of directed edges in the BN:\\n',bn.edges())"
   ]
  },
  {
   "cell_type": "markdown",
   "metadata": {},
   "source": [
    "\n",
    "Graphically, it can be drawn as follow:\n",
    "\n",
    "<img src=\"images/misconception_bn_imap.png\" style=\"width:200px\" />\n",
    "\n",
    "We can obtain the set of (conditional) independencies of this DAG:"
   ]
  },
  {
   "cell_type": "code",
   "execution_count": null,
   "metadata": {},
   "outputs": [],
   "source": [
    "print('Set of independencies in the BN:\\n',bn.get_independencies())"
   ]
  },
  {
   "cell_type": "markdown",
   "metadata": {},
   "source": [
    "\n",
    "and observe that this DAG $G$ is an I-map of the undirected graph $H$ as $I(G)\\subseteq I(H)$."
   ]
  },
  {
   "cell_type": "markdown",
   "metadata": {},
   "source": [
    "<hr /> \n",
    "\n",
    "## Making inference\n",
    "\n",
    "Later in this course, we will know different approaches for inference in PGMs. However, let us consider the approach known as <i>Variable Elimination</i> to observe how we can perform different queries."
   ]
  },
  {
   "cell_type": "code",
   "execution_count": null,
   "metadata": {},
   "outputs": [],
   "source": [
    "from pgmpy.inference import VariableElimination\n",
    "inference_with_H = VariableElimination(H)"
   ]
  },
  {
   "cell_type": "markdown",
   "metadata": {},
   "source": [
    "\n",
    "We can obtain the marginal probability distributions of different variables:\n"
   ]
  },
  {
   "cell_type": "code",
   "execution_count": null,
   "metadata": {},
   "outputs": [],
   "source": [
    "prob_alice = inference_with_H.query(variables = ['Alice'])\n",
    "print(prob_alice['Alice'])"
   ]
  },
  {
   "cell_type": "markdown",
   "metadata": {},
   "source": [
    "\n",
    "Similarly, the marginal probability distributions of <i>Bob</i> is:\n"
   ]
  },
  {
   "cell_type": "code",
   "execution_count": null,
   "metadata": {},
   "outputs": [],
   "source": [
    "prob_bob = #### YOUR CODE HERE ####"
   ]
  },
  {
   "cell_type": "markdown",
   "metadata": {},
   "source": [
    "\n",
    "It is interesting to observe that, although Alice and Bob are likely to agree according to factor potential $\\phi_{AB}$, the marginal probability distributions of both are not. This is a consequence of the rest of the relationships in the model and emphasizes the conceptual distance between potential factor and joint or conditional probability distributions.\n",
    "\n",
    "The most common use of inference techniques is for propagating the evidence gathered from certain observations. We can calculate the marginal probability <i>Alice</i> and <i>Charles</i> given that <i>Bob</i> is unaware of the misconception:\n"
   ]
  },
  {
   "cell_type": "code",
   "execution_count": null,
   "metadata": {},
   "outputs": [],
   "source": [
    "prob_Alice_Bob_unaware = inference_with_H.query(variables = ['Alice','Debbie'], \n",
    "                                              evidence = {'Bob':0})\n",
    "print(prob_Alice_Bob_unaware['Alice'])\n",
    "print(prob_Alice_Bob_unaware['Debbie'])"
   ]
  },
  {
   "cell_type": "markdown",
   "metadata": {},
   "source": [
    "\n",
    "It is also possible to codify evidence in more than one variable. For example, we can calculate the marginal probability <i>Alice</i> and <i>Debbie</i> given that <i>Bob</i> is unaware of the misconception but <i>Charles</i> is not, which brings more certainty to the model:\n"
   ]
  },
  {
   "cell_type": "code",
   "execution_count": null,
   "metadata": {},
   "outputs": [],
   "source": [
    "prob_Alice_Bob_disagree_Charles = inference_with_H.query(variables = ['Alice','Debbie'], \n",
    "                                              evidence = #### YOUR CODE HERE ####)\n",
    "print(prob_Alice_Bob_disagree_Charles['Alice'])\n",
    "print(prob_Alice_Bob_disagree_Charles['Debbie'])"
   ]
  },
  {
   "cell_type": "markdown",
   "metadata": {},
   "source": [
    "\n",
    "We know from the previous discussion that $D\\perp B \\mid A,C$. We can experience that: let us imagine that we do know the answer of <i>Alice</i> and <i>Charles</i>:\n"
   ]
  },
  {
   "cell_type": "code",
   "execution_count": null,
   "metadata": {},
   "outputs": [],
   "source": [
    "prob_Debbie_st_Alice_agree_Charles = inference_with_H.query(variables = ['Debbie'], \n",
    "                                                            evidence = #### YOUR CODE HERE ####)\n",
    "print(prob_Debbie_st_Alice_agree_Charles['Debbie'])"
   ]
  },
  {
   "cell_type": "markdown",
   "metadata": {},
   "source": [
    "\n",
    "Does any new evidence about the answer of <i>Bob</i> contribute to bring new information to the model?\n"
   ]
  },
  {
   "cell_type": "code",
   "execution_count": null,
   "metadata": {},
   "outputs": [],
   "source": [
    "# Bob is unaware\n",
    "prob_Debbie_st_Alice_agree_Charles_indBob0 = inference_with_H.query(variables = ['Debbie'], \n",
    "                                                                    evidence = #### YOUR CODE HERE ####)\n",
    "print(prob_Debbie_st_Alice_agree_Charles_indBob0['Debbie'])\n",
    "\n",
    "# Bob is aware\n",
    "prob_Debbie_st_Alice_agree_Charles_indBob1 = inference_with_H.query(variables = ['Debbie'], \n",
    "                                                                    evidence = #### YOUR CODE HERE ####)\n",
    "print(prob_Debbie_st_Alice_agree_Charles_indBob1['Debbie'])"
   ]
  },
  {
   "cell_type": "markdown",
   "metadata": {},
   "source": [
    "<hr />\n",
    "\n",
    "## Exercices\n",
    "\n",
    "- Which is the probability that Charles knows about the misconception given that  is unaware?\n",
    "\n",
    "- Which is the probability that Charles knows about the misconception given that Bob and Debbie are unaware?\n",
    "\n",
    "- Which is the probability that Charles knows about the misconception given that the rest of them (Alice, Bob, and Debbie) are unaware?\n"
   ]
  },
  {
   "cell_type": "code",
   "execution_count": null,
   "metadata": {},
   "outputs": [],
   "source": []
  }
 ],
 "metadata": {
  "kernelspec": {
   "display_name": "Python 3",
   "language": "python",
   "name": "python3"
  },
  "language_info": {
   "codemirror_mode": {
    "name": "ipython",
    "version": 3
   },
   "file_extension": ".py",
   "mimetype": "text/x-python",
   "name": "python",
   "nbconvert_exporter": "python",
   "pygments_lexer": "ipython3",
   "version": "3.5.6"
  },
  "widgets": {
   "state": {},
   "version": "1.1.1"
  }
 },
 "nbformat": 4,
 "nbformat_minor": 1
}
